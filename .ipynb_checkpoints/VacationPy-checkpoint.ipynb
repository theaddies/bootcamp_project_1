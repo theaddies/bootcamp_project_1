{
 "cells": [
  {
   "cell_type": "markdown",
   "metadata": {},
   "source": [
    "# VacationPy\n",
    "----\n",
    "\n",
    "#### Note\n",
    "* Instructions have been included for each segment. You do not have to follow them exactly, but they are included to help you think through the steps."
   ]
  },
  {
   "cell_type": "code",
   "execution_count": 1,
   "metadata": {},
   "outputs": [],
   "source": [
    "# Dependencies and Setup\n",
    "import matplotlib.pyplot as plt\n",
    "import pandas as pd\n",
    "import numpy as np\n",
    "import requests\n",
    "import gmaps\n",
    "import os\n",
    "\n",
    "# Import API key\n",
    "from api_keys import g_key"
   ]
  },
  {
   "cell_type": "markdown",
   "metadata": {},
   "source": [
    "### Store Part I results into DataFrame\n",
    "* Load the csv exported in Part I to a DataFrame"
   ]
  },
  {
   "cell_type": "code",
   "execution_count": 12,
   "metadata": {},
   "outputs": [
    {
     "data": {
      "text/html": [
       "<div>\n",
       "<style scoped>\n",
       "    .dataframe tbody tr th:only-of-type {\n",
       "        vertical-align: middle;\n",
       "    }\n",
       "\n",
       "    .dataframe tbody tr th {\n",
       "        vertical-align: top;\n",
       "    }\n",
       "\n",
       "    .dataframe thead th {\n",
       "        text-align: right;\n",
       "    }\n",
       "</style>\n",
       "<table border=\"1\" class=\"dataframe\">\n",
       "  <thead>\n",
       "    <tr style=\"text-align: right;\">\n",
       "      <th></th>\n",
       "      <th>City</th>\n",
       "      <th>Lat</th>\n",
       "      <th>Lng</th>\n",
       "      <th>Max Temp</th>\n",
       "      <th>Humidity</th>\n",
       "      <th>Cloudiness</th>\n",
       "      <th>Wind Speed</th>\n",
       "      <th>Country</th>\n",
       "      <th>Date</th>\n",
       "    </tr>\n",
       "  </thead>\n",
       "  <tbody>\n",
       "    <tr>\n",
       "      <th>0</th>\n",
       "      <td>Pontianak</td>\n",
       "      <td>-0.03</td>\n",
       "      <td>109.33</td>\n",
       "      <td>89.15</td>\n",
       "      <td>57</td>\n",
       "      <td>82</td>\n",
       "      <td>4.00</td>\n",
       "      <td>ID</td>\n",
       "      <td>1592624336</td>\n",
       "    </tr>\n",
       "    <tr>\n",
       "      <th>1</th>\n",
       "      <td>Usagara</td>\n",
       "      <td>-2.68</td>\n",
       "      <td>33.00</td>\n",
       "      <td>66.20</td>\n",
       "      <td>93</td>\n",
       "      <td>75</td>\n",
       "      <td>7.20</td>\n",
       "      <td>TZ</td>\n",
       "      <td>1592624337</td>\n",
       "    </tr>\n",
       "    <tr>\n",
       "      <th>2</th>\n",
       "      <td>Thunder Bay</td>\n",
       "      <td>48.40</td>\n",
       "      <td>-89.32</td>\n",
       "      <td>66.00</td>\n",
       "      <td>63</td>\n",
       "      <td>75</td>\n",
       "      <td>9.17</td>\n",
       "      <td>CA</td>\n",
       "      <td>1592624137</td>\n",
       "    </tr>\n",
       "    <tr>\n",
       "      <th>3</th>\n",
       "      <td>Tuatapere</td>\n",
       "      <td>-46.13</td>\n",
       "      <td>167.68</td>\n",
       "      <td>48.58</td>\n",
       "      <td>82</td>\n",
       "      <td>45</td>\n",
       "      <td>3.15</td>\n",
       "      <td>NZ</td>\n",
       "      <td>1592624311</td>\n",
       "    </tr>\n",
       "    <tr>\n",
       "      <th>4</th>\n",
       "      <td>Ilulissat</td>\n",
       "      <td>69.22</td>\n",
       "      <td>-51.10</td>\n",
       "      <td>41.00</td>\n",
       "      <td>75</td>\n",
       "      <td>0</td>\n",
       "      <td>8.05</td>\n",
       "      <td>GL</td>\n",
       "      <td>1592623994</td>\n",
       "    </tr>\n",
       "  </tbody>\n",
       "</table>\n",
       "</div>"
      ],
      "text/plain": [
       "          City    Lat     Lng  Max Temp  Humidity  Cloudiness  Wind Speed  \\\n",
       "0    Pontianak  -0.03  109.33     89.15        57          82        4.00   \n",
       "1      Usagara  -2.68   33.00     66.20        93          75        7.20   \n",
       "2  Thunder Bay  48.40  -89.32     66.00        63          75        9.17   \n",
       "3    Tuatapere -46.13  167.68     48.58        82          45        3.15   \n",
       "4    Ilulissat  69.22  -51.10     41.00        75           0        8.05   \n",
       "\n",
       "  Country        Date  \n",
       "0      ID  1592624336  \n",
       "1      TZ  1592624337  \n",
       "2      CA  1592624137  \n",
       "3      NZ  1592624311  \n",
       "4      GL  1592623994  "
      ]
     },
     "execution_count": 12,
     "metadata": {},
     "output_type": "execute_result"
    }
   ],
   "source": [
    "weatherpy_path = \"/Users/hannahlee/Desktop/Bootcamp/API_Homework/WeatherPy/output_data/weatherpy_df.csv\"\n",
    "weatherpy_df = pd.read_csv(weatherpy_csv)\n",
    "\n",
    "del weatherpy_df['Unnamed: 0']\n",
    "\n",
    "weatherpy_df.head()"
   ]
  },
  {
   "cell_type": "markdown",
   "metadata": {},
   "source": [
    "### Humidity Heatmap\n",
    "* Configure gmaps.\n",
    "* Use the Lat and Lng as locations and Humidity as the weight.\n",
    "* Add Heatmap layer to map."
   ]
  },
  {
   "cell_type": "code",
   "execution_count": 13,
   "metadata": {},
   "outputs": [
    {
     "data": {
      "application/vnd.jupyter.widget-view+json": {
       "model_id": "f60a57de2cdc4cb58163f5cb44750de0",
       "version_major": 2,
       "version_minor": 0
      },
      "text/plain": [
       "Figure(layout=FigureLayout(height='420px'))"
      ]
     },
     "metadata": {},
     "output_type": "display_data"
    }
   ],
   "source": [
    "#Configure gmaps\n",
    "gmaps.configure(api_key=g_key)\n",
    "\n",
    "weatherpy_df = weatherpy_df.dropna()\n",
    "\n",
    "# Use the Lat and Lng as locations and Humidity as the weight.\n",
    "humidity = weatherpy_df[\"Humidity\"].astype(float)\n",
    "locations = weatherpy_df[[\"Lat\", \"Lng\"]].astype(float)\n",
    "\n",
    "# Create a humidity Heatmap layer\n",
    "fig = gmaps.figure()\n",
    "heat_layer = gmaps.heatmap_layer(locations, weights=humidity, dissipating=False, max_intensity=max(weatherpy_df[\"Humidity\"]),point_radius = 2)\n",
    "fig.add_layer(heat_layer)\n",
    "\n",
    "fig"
   ]
  },
  {
   "cell_type": "markdown",
   "metadata": {},
   "source": [
    "### Create new DataFrame fitting weather criteria\n",
    "* Narrow down the cities to fit weather conditions.\n",
    "* Drop any rows will null values."
   ]
  },
  {
   "cell_type": "code",
   "execution_count": 41,
   "metadata": {},
   "outputs": [
    {
     "data": {
      "text/html": [
       "<div>\n",
       "<style scoped>\n",
       "    .dataframe tbody tr th:only-of-type {\n",
       "        vertical-align: middle;\n",
       "    }\n",
       "\n",
       "    .dataframe tbody tr th {\n",
       "        vertical-align: top;\n",
       "    }\n",
       "\n",
       "    .dataframe thead th {\n",
       "        text-align: right;\n",
       "    }\n",
       "</style>\n",
       "<table border=\"1\" class=\"dataframe\">\n",
       "  <thead>\n",
       "    <tr style=\"text-align: right;\">\n",
       "      <th></th>\n",
       "      <th>City</th>\n",
       "      <th>Lat</th>\n",
       "      <th>Lng</th>\n",
       "      <th>Max Temp</th>\n",
       "      <th>Humidity</th>\n",
       "      <th>Cloudiness</th>\n",
       "      <th>Wind Speed</th>\n",
       "      <th>Country</th>\n",
       "      <th>Date</th>\n",
       "    </tr>\n",
       "  </thead>\n",
       "  <tbody>\n",
       "    <tr>\n",
       "      <th>154</th>\n",
       "      <td>Arraial do Cabo</td>\n",
       "      <td>-22.97</td>\n",
       "      <td>-42.03</td>\n",
       "      <td>71.37</td>\n",
       "      <td>80</td>\n",
       "      <td>0</td>\n",
       "      <td>8.57</td>\n",
       "      <td>BR</td>\n",
       "      <td>1592623970</td>\n",
       "    </tr>\n",
       "    <tr>\n",
       "      <th>192</th>\n",
       "      <td>Aswān</td>\n",
       "      <td>24.09</td>\n",
       "      <td>32.91</td>\n",
       "      <td>78.17</td>\n",
       "      <td>27</td>\n",
       "      <td>0</td>\n",
       "      <td>9.01</td>\n",
       "      <td>EG</td>\n",
       "      <td>1592624558</td>\n",
       "    </tr>\n",
       "    <tr>\n",
       "      <th>199</th>\n",
       "      <td>Buraidah</td>\n",
       "      <td>26.33</td>\n",
       "      <td>43.98</td>\n",
       "      <td>75.20</td>\n",
       "      <td>31</td>\n",
       "      <td>0</td>\n",
       "      <td>9.17</td>\n",
       "      <td>SA</td>\n",
       "      <td>1592624159</td>\n",
       "    </tr>\n",
       "    <tr>\n",
       "      <th>257</th>\n",
       "      <td>Chu</td>\n",
       "      <td>43.60</td>\n",
       "      <td>73.76</td>\n",
       "      <td>73.00</td>\n",
       "      <td>69</td>\n",
       "      <td>0</td>\n",
       "      <td>3.00</td>\n",
       "      <td>KZ</td>\n",
       "      <td>1592624632</td>\n",
       "    </tr>\n",
       "    <tr>\n",
       "      <th>287</th>\n",
       "      <td>Mount Isa</td>\n",
       "      <td>-20.73</td>\n",
       "      <td>139.50</td>\n",
       "      <td>78.80</td>\n",
       "      <td>29</td>\n",
       "      <td>0</td>\n",
       "      <td>9.17</td>\n",
       "      <td>AU</td>\n",
       "      <td>1592624184</td>\n",
       "    </tr>\n",
       "  </tbody>\n",
       "</table>\n",
       "</div>"
      ],
      "text/plain": [
       "                City    Lat     Lng  Max Temp  Humidity  Cloudiness  \\\n",
       "154  Arraial do Cabo -22.97  -42.03     71.37        80           0   \n",
       "192            Aswān  24.09   32.91     78.17        27           0   \n",
       "199         Buraidah  26.33   43.98     75.20        31           0   \n",
       "257              Chu  43.60   73.76     73.00        69           0   \n",
       "287        Mount Isa -20.73  139.50     78.80        29           0   \n",
       "\n",
       "     Wind Speed Country        Date  \n",
       "154        8.57      BR  1592623970  \n",
       "192        9.01      EG  1592624558  \n",
       "199        9.17      SA  1592624159  \n",
       "257        3.00      KZ  1592624632  \n",
       "287        9.17      AU  1592624184  "
      ]
     },
     "execution_count": 41,
     "metadata": {},
     "output_type": "execute_result"
    }
   ],
   "source": [
    "#Narrow down the cities to fit weather conditions.\n",
    "\n",
    "#A max temperature lower than 80 degrees but higher than 70.\n",
    "filtered_weatherpy_df = weatherpy_df.loc[(weatherpy_df[\"Max Temp\"] < 80) & (weatherpy_df[\"Max Temp\"] > 70)]\n",
    "\n",
    "#Wind speed less than 10 mph.\n",
    "filtered_weatherpy_df = filtered_weatherpy_df.loc[filtered_weatherpy_df[\"Wind Speed\"] < 10]\n",
    "\n",
    "#Zero cloudiness.\n",
    "filtered_weatherpy_df = filtered_weatherpy_df.loc[filtered_weatherpy_df[\"Cloudiness\"] == 0]\n",
    "\n",
    "#Drop any rows with null values.\n",
    "filtered_weatherpy_df = filtered_weatherpy_df.dropna()\n",
    "\n",
    "filtered_weatherpy_df"
   ]
  },
  {
   "cell_type": "markdown",
   "metadata": {},
   "source": [
    "### Hotel Map\n",
    "* Store into variable named `hotel_df`.\n",
    "* Add a \"Hotel Name\" column to the DataFrame.\n",
    "* Set parameters to search for hotels with 5000 meters.\n",
    "* Hit the Google Places API for each city's coordinates.\n",
    "* Store the first Hotel result into the DataFrame.\n",
    "* Plot markers on top of the heatmap."
   ]
  },
  {
   "cell_type": "code",
   "execution_count": 43,
   "metadata": {},
   "outputs": [
    {
     "name": "stdout",
     "output_type": "stream",
     "text": [
      "Retrieving Results for Index 154: Arraial do Cabo.\n",
      "Closest hotel is Orlanova Hotel.\n",
      "\n",
      "\n",
      "Retrieving Results for Index 192: Aswān.\n",
      "Closest hotel is Sofitel Legend Old Cataract Aswan.\n",
      "\n",
      "\n",
      "Retrieving Results for Index 199: Buraidah.\n",
      "Closest hotel is Best Western Plus Buraidah.\n",
      "\n",
      "\n",
      "Retrieving Results for Index 257: Chu.\n",
      "Closest hotel is Shu Palace Hotel.\n",
      "\n",
      "\n",
      "Retrieving Results for Index 287: Mount Isa.\n",
      "Closest hotel is Isa Hotel.\n",
      "\n",
      "\n"
     ]
    }
   ],
   "source": [
    "hotel_df = filtered_weatherpy_df\n",
    "hotel_df['Hotel Name'] = np.nan\n",
    "\n",
    "index = 0\n",
    "for index, row in hotel_df.iterrows():\n",
    "    params = {\"location\": f\"{row['Lat']}, {row['Lng']}\",\"keyword\": \"Hotel\",\"radius\": target_radius,5000: \"lodging\",\"key\": g_key}\n",
    "\n",
    "    url = \"https://maps.googleapis.com/maps/api/place/nearbysearch/json\"\n",
    "\n",
    "    print(f\"Retrieving Results for Index {index}: {row['City']}.\")\n",
    "    response = requests.get(url, params=params).json()\n",
    "    results = response['results']\n",
    "    \n",
    "    if len(results) > 0:\n",
    "        name = response['results'][0]['name']\n",
    "        hotel_df.iloc[index, -1] = name\n",
    "    \n",
    "    index = index + 1\n",
    "    hotel_df.loc[index, 'Hotel Name'] = results[0]['name'] \n",
    "    \n",
    "    print(f\"Closest hotel is {results[0]['name']}.\\n\\n\")\n",
    "    \n",
    "narrowed_city_df = hotel_df\n"
   ]
  },
  {
   "cell_type": "code",
   "execution_count": 31,
   "metadata": {},
   "outputs": [],
   "source": [
    "# NOTE: Do not change any of the code in this cell\n",
    "\n",
    "# Using the template add the hotel marks to the heatmap\n",
    "info_box_template = \"\"\"\n",
    "<dl>\n",
    "<dt>Name</dt><dd>{Hotel Name}</dd>\n",
    "<dt>City</dt><dd>{City}</dd>\n",
    "<dt>Country</dt><dd>{Country}</dd>\n",
    "</dl>\n",
    "\"\"\"\n",
    "# Store the DataFrame Row\n",
    "# NOTE: be sure to update with your DataFrame name\n",
    "hotel_info = [info_box_template.format(**row) for index, row in hotel_df.iterrows()]\n",
    "locations = hotel_df[[\"Lat\", \"Lng\"]]"
   ]
  },
  {
   "cell_type": "code",
   "execution_count": 33,
   "metadata": {},
   "outputs": [
    {
     "data": {
      "application/vnd.jupyter.widget-view+json": {
       "model_id": "f60a57de2cdc4cb58163f5cb44750de0",
       "version_major": 2,
       "version_minor": 0
      },
      "text/plain": [
       "Figure(layout=FigureLayout(height='420px'))"
      ]
     },
     "metadata": {},
     "output_type": "display_data"
    }
   ],
   "source": [
    "# Add marker layer ontop of heat map\n",
    "# Display figure\n",
    "marker_layer = gmaps.marker_layer(locations, info_box_content=hotel_info)\n",
    "fig.add_layer(marker_layer)\n",
    "fig"
   ]
  },
  {
   "cell_type": "code",
   "execution_count": null,
   "metadata": {},
   "outputs": [],
   "source": []
  }
 ],
 "metadata": {
  "kernelspec": {
   "display_name": "Python 3",
   "language": "python",
   "name": "python3"
  },
  "language_info": {
   "codemirror_mode": {
    "name": "ipython",
    "version": 3
   },
   "file_extension": ".py",
   "mimetype": "text/x-python",
   "name": "python",
   "nbconvert_exporter": "python",
   "pygments_lexer": "ipython3",
   "version": "3.7.6"
  },
  "latex_envs": {
   "LaTeX_envs_menu_present": true,
   "autoclose": false,
   "autocomplete": true,
   "bibliofile": "biblio.bib",
   "cite_by": "apalike",
   "current_citInitial": 1,
   "eqLabelWithNumbers": true,
   "eqNumInitial": 1,
   "hotkeys": {
    "equation": "Ctrl-E",
    "itemize": "Ctrl-I"
   },
   "labels_anchors": false,
   "latex_user_defs": false,
   "report_style_numbering": false,
   "user_envs_cfg": false
  }
 },
 "nbformat": 4,
 "nbformat_minor": 2
}
