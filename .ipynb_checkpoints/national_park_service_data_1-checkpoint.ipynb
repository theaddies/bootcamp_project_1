{
 "cells": [
  {
   "cell_type": "code",
   "execution_count": 1,
   "metadata": {},
   "outputs": [],
   "source": [
    "# Dependencies and Setup\n",
    "import matplotlib.pyplot as plt\n",
    "import pandas as pd\n",
    "import numpy as np\n",
    "import requests\n",
    "import time\n",
    "from scipy.stats import linregress\n",
    "from datetime import datetime\n",
    "import re\n",
    "import us\n",
    "\n",
    "#national park\n",
    "national_park_key = 'GkpWhu2NMmW3ByYQQBG7EUil39dXzp0CSSkZhYMr'\n",
    "base_url = 'https://developer.nps.gov/api/v1/'"
   ]
  },
  {
   "cell_type": "code",
   "execution_count": 2,
   "metadata": {},
   "outputs": [],
   "source": [
    "states = [\"AL\", \"AK\", \"AZ\", \"AR\", \"CA\", \"CO\", \"CT\", \"DC\", \"DE\", \"FL\", \"GA\", \n",
    "          \"HI\", \"ID\", \"IL\", \"IN\", \"IA\", \"KS\", \"KY\", \"LA\", \"ME\", \"MD\", \n",
    "          \"MA\", \"MI\", \"MN\", \"MS\", \"MO\", \"MT\", \"NE\", \"NV\", \"NH\", \"NJ\", \n",
    "          \"NM\", \"NY\", \"NC\", \"ND\", \"OH\", \"OK\", \"OR\", \"PA\", \"RI\", \"SC\", \n",
    "          \"SD\", \"TN\", \"TX\", \"UT\", \"VT\", \"VA\", \"WA\", \"WV\", \"WI\", \"WY\"]"
   ]
  },
  {
   "cell_type": "code",
   "execution_count": 3,
   "metadata": {},
   "outputs": [],
   "source": [
    "national_park_state = []\n",
    "national_park_name = []\n",
    "national_park_code = []"
   ]
  },
  {
   "cell_type": "code",
   "execution_count": null,
   "metadata": {},
   "outputs": [
    {
     "name": "stdout",
     "output_type": "stream",
     "text": [
      "https://developer.nps.gov/api/v1/parks?&limit=490&stateCode=ME&sort=&sort=&api_key=GkpWhu2NMmW3ByYQQBG7EUil39dXzp0CSSkZhYMr\n"
     ]
    }
   ],
   "source": [
    "full_url = base_url + 'parks?&limit=490&stateCode=' + states[19]+'&sort=&sort=' + '&api_key='+ national_park_key \n",
    "print(full_url)\n",
    "response=requests.get(full_url).json()\n",
    "response"
   ]
  },
  {
   "cell_type": "code",
   "execution_count": null,
   "metadata": {},
   "outputs": [],
   "source": [
    "response['data'][4]['fullName']"
   ]
  },
  {
   "cell_type": "code",
   "execution_count": null,
   "metadata": {},
   "outputs": [],
   "source": [
    "response['total']"
   ]
  },
  {
   "cell_type": "code",
   "execution_count": null,
   "metadata": {},
   "outputs": [],
   "source": [
    "for i in range(int(response['total'])):\n",
    "    print(i)\n",
    "    print(response['data'][i]['fullName'])\n",
    "    print(response['data'][i]['designation'])"
   ]
  },
  {
   "cell_type": "code",
   "execution_count": null,
   "metadata": {},
   "outputs": [],
   "source": [
    "for state in states:\n",
    "    full_url = base_url + 'parks?&limit=490&stateCode=' + state + '&api_key='+ national_park_key\n",
    "    response=requests.get(full_url).json()\n",
    "    for i in range(int(response['total'])):\n",
    "        print(i)\n",
    "        print(state)\n",
    "        print(response['data'][i]['fullName'])\n",
    "        print(response['data'][i]['designation'])\n",
    "        print(response['data'][i]['parkCode'])\n",
    "        national_park_designation = ((response['data'][i]['designation'] == \"National Park\") | (response['data'][i]['designation'] == \"National Park & Preserve\"))\n",
    "        if response['data'][i]['designation'] == \"National Park\":\n",
    "            national_park_state.append(response['data'][i]['fullName'])\n",
    "            national_park_name.append(response['data'][i]['designation'])\n",
    "            national_park_code.append(response['data'][i]['parkCode'])"
   ]
  },
  {
   "cell_type": "code",
   "execution_count": null,
   "metadata": {},
   "outputs": [],
   "source": [
    "national_park_state"
   ]
  }
 ],
 "metadata": {
  "kernelspec": {
   "display_name": "Python 3",
   "language": "python",
   "name": "python3"
  },
  "language_info": {
   "codemirror_mode": {
    "name": "ipython",
    "version": 3
   },
   "file_extension": ".py",
   "mimetype": "text/x-python",
   "name": "python",
   "nbconvert_exporter": "python",
   "pygments_lexer": "ipython3",
   "version": "3.7.7"
  }
 },
 "nbformat": 4,
 "nbformat_minor": 4
}
