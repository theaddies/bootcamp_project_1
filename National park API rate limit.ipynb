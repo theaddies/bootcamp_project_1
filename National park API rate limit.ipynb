{
 "cells": [
  {
   "cell_type": "code",
   "execution_count": 11,
   "metadata": {},
   "outputs": [],
   "source": [
    "# Dependencies and Setup\n",
    "import matplotlib.pyplot as plt\n",
    "import pandas as pd\n",
    "import numpy as np\n",
    "import requests\n",
    "import time\n",
    "from scipy.stats import linregress\n",
    "from datetime import datetime\n",
    "import re\n",
    "\n",
    "csv_file = 'national_parks.csv'\n",
    "csv_clean = 'national_parks_clean.csv'\n",
    "\n",
    "base_url = 'https://developer.nps.gov/api/v1/'\n",
    "\n",
    "#national park\n",
    "national_park_key = 'GkpWhu2NMmW3ByYQQBG7EUil39dXzp0CSSkZhYMr'\n",
    "national_park_key_2 = 'D9gmnm3IkygXozEzcTJBGklkEslRpu3QdL3h3dIH'\n",
    "national_park_key_3 = 'h21YkFpooH9YM3c3Rqv9Qg19I3FclWVQUf4RQo2i'\n",
    "#national park\n",
    "national_park_key_4 = '9hB1XUMrVFU13qYeM6boLkETee0C5ebMu3yE4hrN'"
   ]
  },
  {
   "cell_type": "code",
   "execution_count": 12,
   "metadata": {},
   "outputs": [],
   "source": [
    "full_url = base_url + 'parks?&parkCode=' + 'me' + '&api_key='+ national_park_key_3"
   ]
  },
  {
   "cell_type": "code",
   "execution_count": 13,
   "metadata": {},
   "outputs": [],
   "source": [
    "import urllib.request, json\n",
    "# Configure API request\n",
    "response = requests.get(full_url).json()\n",
    "# Additional code would follow"
   ]
  },
  {
   "cell_type": "code",
   "execution_count": 14,
   "metadata": {},
   "outputs": [
    {
     "data": {
      "text/plain": [
       "{'total': '0', 'data': [], 'limit': '50', 'start': '1'}"
      ]
     },
     "execution_count": 14,
     "metadata": {},
     "output_type": "execute_result"
    }
   ],
   "source": [
    "response"
   ]
  }
 ],
 "metadata": {
  "kernelspec": {
   "display_name": "Python 3",
   "language": "python",
   "name": "python3"
  },
  "language_info": {
   "codemirror_mode": {
    "name": "ipython",
    "version": 3
   },
   "file_extension": ".py",
   "mimetype": "text/x-python",
   "name": "python",
   "nbconvert_exporter": "python",
   "pygments_lexer": "ipython3",
   "version": "3.7.7"
  }
 },
 "nbformat": 4,
 "nbformat_minor": 4
}
