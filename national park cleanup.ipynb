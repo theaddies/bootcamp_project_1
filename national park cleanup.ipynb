{
 "cells": [
  {
   "cell_type": "code",
   "execution_count": 1,
   "metadata": {},
   "outputs": [],
   "source": [
    "# Dependencies and Setup\n",
    "import matplotlib.pyplot as plt\n",
    "import pandas as pd\n",
    "import numpy as np\n",
    "import requests\n",
    "import time\n",
    "from scipy.stats import linregress\n",
    "from datetime import datetime\n",
    "import re\n",
    "\n",
    "csv_file = 'national_parks.csv'\n",
    "csv_clean = 'national_parks_clean.csv'"
   ]
  },
  {
   "cell_type": "code",
   "execution_count": 2,
   "metadata": {
    "scrolled": true
   },
   "outputs": [
    {
     "data": {
      "text/html": [
       "<div>\n",
       "<style scoped>\n",
       "    .dataframe tbody tr th:only-of-type {\n",
       "        vertical-align: middle;\n",
       "    }\n",
       "\n",
       "    .dataframe tbody tr th {\n",
       "        vertical-align: top;\n",
       "    }\n",
       "\n",
       "    .dataframe thead th {\n",
       "        text-align: right;\n",
       "    }\n",
       "</style>\n",
       "<table border=\"1\" class=\"dataframe\">\n",
       "  <thead>\n",
       "    <tr style=\"text-align: right;\">\n",
       "      <th></th>\n",
       "      <th>Name</th>\n",
       "      <th>Location</th>\n",
       "      <th>coordinates</th>\n",
       "      <th>Date established as park[5][10]</th>\n",
       "      <th>Area (2019)[11]</th>\n",
       "      <th>Recreation visitors (2018)[8]</th>\n",
       "      <th>Description</th>\n",
       "    </tr>\n",
       "  </thead>\n",
       "  <tbody>\n",
       "    <tr>\n",
       "      <th>0</th>\n",
       "      <td>Acadia</td>\n",
       "      <td>Maine</td>\n",
       "      <td>44.35°N 68.21°W</td>\n",
       "      <td>26-Feb-19</td>\n",
       "      <td>49,076.63 acres (198.6 km2)</td>\n",
       "      <td>3,537,575</td>\n",
       "      <td>Covering most of Mount Desert Island and other...</td>\n",
       "    </tr>\n",
       "    <tr>\n",
       "      <th>1</th>\n",
       "      <td>American Samoa</td>\n",
       "      <td>American Samoa</td>\n",
       "      <td>14.25°S 170.68°W</td>\n",
       "      <td>31-Oct-88</td>\n",
       "      <td>8,256.67 acres (33.4 km2)</td>\n",
       "      <td>28,626</td>\n",
       "      <td>The southernmost national park is on three Sam...</td>\n",
       "    </tr>\n",
       "    <tr>\n",
       "      <th>2</th>\n",
       "      <td>Arches</td>\n",
       "      <td>Utah</td>\n",
       "      <td>38.68°N 109.57°W</td>\n",
       "      <td>12-Nov-71</td>\n",
       "      <td>76,678.98 acres (310.3 km2)</td>\n",
       "      <td>1,663,557</td>\n",
       "      <td>This site features more than 2,000 natural san...</td>\n",
       "    </tr>\n",
       "    <tr>\n",
       "      <th>3</th>\n",
       "      <td>Badlands</td>\n",
       "      <td>South Dakota</td>\n",
       "      <td>43.75°N 102.50°W</td>\n",
       "      <td>10-Nov-78</td>\n",
       "      <td>242,755.94 acres (982.4 km2)</td>\n",
       "      <td>1,008,942</td>\n",
       "      <td>The Badlands are a collection of buttes, pinna...</td>\n",
       "    </tr>\n",
       "    <tr>\n",
       "      <th>4</th>\n",
       "      <td>Big Bend dagger</td>\n",
       "      <td>Texas</td>\n",
       "      <td>29.25°N 103.25°W</td>\n",
       "      <td>12-Jun-44</td>\n",
       "      <td>801,163.21 acres (3,242.2 km2)</td>\n",
       "      <td>440,091</td>\n",
       "      <td>Named for the prominent bend in the Rio Grande...</td>\n",
       "    </tr>\n",
       "    <tr>\n",
       "      <th>...</th>\n",
       "      <td>...</td>\n",
       "      <td>...</td>\n",
       "      <td>...</td>\n",
       "      <td>...</td>\n",
       "      <td>...</td>\n",
       "      <td>...</td>\n",
       "      <td>...</td>\n",
       "    </tr>\n",
       "    <tr>\n",
       "      <th>57</th>\n",
       "      <td>Wind Cave</td>\n",
       "      <td>South Dakota</td>\n",
       "      <td>43.57°N 103.48°W</td>\n",
       "      <td>9-Jan-03</td>\n",
       "      <td>33,970.84 acres (137.5 km2)</td>\n",
       "      <td>656,397</td>\n",
       "      <td>Wind Cave is distinctive for its calcite fin f...</td>\n",
       "    </tr>\n",
       "    <tr>\n",
       "      <th>58</th>\n",
       "      <td>Wrangell</td>\n",
       "      <td>Alaska</td>\n",
       "      <td>61.00°N 142.00°W</td>\n",
       "      <td>2-Dec-80</td>\n",
       "      <td>8,323,146.48 acres (33,682.6 km2)</td>\n",
       "      <td>79,450</td>\n",
       "      <td>An over 8 million acres (32,375 km2) plot of m...</td>\n",
       "    </tr>\n",
       "    <tr>\n",
       "      <th>59</th>\n",
       "      <td>Yellowstone double-dagger</td>\n",
       "      <td>Wyoming, Montana, Idaho</td>\n",
       "      <td>44.60°N 110.50°W</td>\n",
       "      <td>March 1, 1872</td>\n",
       "      <td>2,219,790.71 acres (8,983.2 km2)</td>\n",
       "      <td>4,115,000</td>\n",
       "      <td>Situated on the Yellowstone Caldera, the park ...</td>\n",
       "    </tr>\n",
       "    <tr>\n",
       "      <th>60</th>\n",
       "      <td>Yosemite *</td>\n",
       "      <td>California</td>\n",
       "      <td>37.83°N 119.50°W</td>\n",
       "      <td>October 1, 1890</td>\n",
       "      <td>761,747.50 acres (3,082.7 km2)</td>\n",
       "      <td>4,009,436</td>\n",
       "      <td>Yosemite features sheer granite cliffs, except...</td>\n",
       "    </tr>\n",
       "    <tr>\n",
       "      <th>61</th>\n",
       "      <td>Zion</td>\n",
       "      <td>Utah</td>\n",
       "      <td>37.30°N 113.05°W</td>\n",
       "      <td>19-Nov-19</td>\n",
       "      <td>147,242.66 acres (595.9 km2)</td>\n",
       "      <td>4,320,033</td>\n",
       "      <td>Located at the junction of the Colorado Platea...</td>\n",
       "    </tr>\n",
       "  </tbody>\n",
       "</table>\n",
       "<p>62 rows × 7 columns</p>\n",
       "</div>"
      ],
      "text/plain": [
       "                         Name                 Location       coordinates  \\\n",
       "0                      Acadia                    Maine   44.35°N 68.21°W   \n",
       "1              American Samoa           American Samoa  14.25°S 170.68°W   \n",
       "2                      Arches                     Utah  38.68°N 109.57°W   \n",
       "3                    Badlands             South Dakota  43.75°N 102.50°W   \n",
       "4             Big Bend dagger                    Texas  29.25°N 103.25°W   \n",
       "..                        ...                      ...               ...   \n",
       "57                  Wind Cave             South Dakota  43.57°N 103.48°W   \n",
       "58                   Wrangell                   Alaska  61.00°N 142.00°W   \n",
       "59  Yellowstone double-dagger  Wyoming, Montana, Idaho  44.60°N 110.50°W   \n",
       "60                 Yosemite *               California  37.83°N 119.50°W   \n",
       "61                       Zion                     Utah  37.30°N 113.05°W   \n",
       "\n",
       "   Date established as park[5][10]                    Area (2019)[11]  \\\n",
       "0                        26-Feb-19        49,076.63 acres (198.6 km2)   \n",
       "1                        31-Oct-88          8,256.67 acres (33.4 km2)   \n",
       "2                        12-Nov-71        76,678.98 acres (310.3 km2)   \n",
       "3                        10-Nov-78       242,755.94 acres (982.4 km2)   \n",
       "4                        12-Jun-44     801,163.21 acres (3,242.2 km2)   \n",
       "..                             ...                                ...   \n",
       "57                        9-Jan-03        33,970.84 acres (137.5 km2)   \n",
       "58                        2-Dec-80  8,323,146.48 acres (33,682.6 km2)   \n",
       "59                   March 1, 1872   2,219,790.71 acres (8,983.2 km2)   \n",
       "60                 October 1, 1890     761,747.50 acres (3,082.7 km2)   \n",
       "61                       19-Nov-19       147,242.66 acres (595.9 km2)   \n",
       "\n",
       "   Recreation visitors (2018)[8]  \\\n",
       "0                      3,537,575   \n",
       "1                         28,626   \n",
       "2                      1,663,557   \n",
       "3                      1,008,942   \n",
       "4                        440,091   \n",
       "..                           ...   \n",
       "57                       656,397   \n",
       "58                        79,450   \n",
       "59                     4,115,000   \n",
       "60                     4,009,436   \n",
       "61                     4,320,033   \n",
       "\n",
       "                                          Description  \n",
       "0   Covering most of Mount Desert Island and other...  \n",
       "1   The southernmost national park is on three Sam...  \n",
       "2   This site features more than 2,000 natural san...  \n",
       "3   The Badlands are a collection of buttes, pinna...  \n",
       "4   Named for the prominent bend in the Rio Grande...  \n",
       "..                                                ...  \n",
       "57  Wind Cave is distinctive for its calcite fin f...  \n",
       "58  An over 8 million acres (32,375 km2) plot of m...  \n",
       "59  Situated on the Yellowstone Caldera, the park ...  \n",
       "60  Yosemite features sheer granite cliffs, except...  \n",
       "61  Located at the junction of the Colorado Platea...  \n",
       "\n",
       "[62 rows x 7 columns]"
      ]
     },
     "execution_count": 2,
     "metadata": {},
     "output_type": "execute_result"
    }
   ],
   "source": [
    "park_df = pd.read_csv(csv_file)\n",
    "park_df"
   ]
  },
  {
   "cell_type": "code",
   "execution_count": 3,
   "metadata": {},
   "outputs": [
    {
     "data": {
      "text/plain": [
       "0      44.35°N 68.21°W\n",
       "1     14.25°S 170.68°W\n",
       "2     38.68°N 109.57°W\n",
       "3     43.75°N 102.50°W\n",
       "4     29.25°N 103.25°W\n",
       "            ...       \n",
       "57    43.57°N 103.48°W\n",
       "58    61.00°N 142.00°W\n",
       "59    44.60°N 110.50°W\n",
       "60    37.83°N 119.50°W\n",
       "61    37.30°N 113.05°W\n",
       "Name: coordinates, Length: 62, dtype: object"
      ]
     },
     "execution_count": 3,
     "metadata": {},
     "output_type": "execute_result"
    }
   ],
   "source": [
    "park_df['coordinates']"
   ]
  },
  {
   "cell_type": "code",
   "execution_count": 4,
   "metadata": {},
   "outputs": [],
   "source": [
    "park_df['lat'] = 0\n",
    "park_df['lon'] = 0\n",
    "park_df['new_name'] = 0\n",
    "park_df['area, acres'] = 0\n",
    "park_df['area, km^2'] = 0"
   ]
  },
  {
   "cell_type": "code",
   "execution_count": 5,
   "metadata": {},
   "outputs": [
    {
     "data": {
      "text/plain": [
       "'Big'"
      ]
     },
     "execution_count": 5,
     "metadata": {},
     "output_type": "execute_result"
    }
   ],
   "source": [
    "re.split(' dagger| ', park_df[:][4:5]['Name'].item())[0]"
   ]
  },
  {
   "cell_type": "code",
   "execution_count": 6,
   "metadata": {},
   "outputs": [
    {
     "data": {
      "text/plain": [
       "0           49,076.63 acres (198.6 km2)\n",
       "1             8,256.67 acres (33.4 km2)\n",
       "2           76,678.98 acres (310.3 km2)\n",
       "3          242,755.94 acres (982.4 km2)\n",
       "4        801,163.21 acres (3,242.2 km2)\n",
       "                    ...                \n",
       "57          33,970.84 acres (137.5 km2)\n",
       "58    8,323,146.48 acres (33,682.6 km2)\n",
       "59     2,219,790.71 acres (8,983.2 km2)\n",
       "60       761,747.50 acres (3,082.7 km2)\n",
       "61         147,242.66 acres (595.9 km2)\n",
       "Name: Area (2019)[11], Length: 62, dtype: object"
      ]
     },
     "execution_count": 6,
     "metadata": {},
     "output_type": "execute_result"
    }
   ],
   "source": [
    "park_df['Area (2019)[11]']"
   ]
  },
  {
   "cell_type": "code",
   "execution_count": 7,
   "metadata": {},
   "outputs": [
    {
     "data": {
      "text/plain": [
       "'Wrangell–St. Elias'"
      ]
     },
     "execution_count": 7,
     "metadata": {},
     "output_type": "execute_result"
    }
   ],
   "source": [
    "re.split(' dagger| double-dagger| \\*','Wrangell–St. Elias *')[0]"
   ]
  },
  {
   "cell_type": "code",
   "execution_count": 8,
   "metadata": {},
   "outputs": [
    {
     "data": {
      "text/plain": [
       "'Wrangell'"
      ]
     },
     "execution_count": 8,
     "metadata": {},
     "output_type": "execute_result"
    }
   ],
   "source": [
    "park_df['Name'][58:59].item()"
   ]
  },
  {
   "cell_type": "code",
   "execution_count": 9,
   "metadata": {},
   "outputs": [
    {
     "data": {
      "text/plain": [
       "'68.21'"
      ]
     },
     "execution_count": 9,
     "metadata": {},
     "output_type": "execute_result"
    }
   ],
   "source": [
    "re.split('°W|°N |°S ', park_df.loc[park_df['Name'] == 'Acadia', 'coordinates'].item())[1]"
   ]
  },
  {
   "cell_type": "code",
   "execution_count": 10,
   "metadata": {},
   "outputs": [
    {
     "data": {
      "text/plain": [
       "['49,076.63', ' ', '198.6', '', '']"
      ]
     },
     "execution_count": 10,
     "metadata": {},
     "output_type": "execute_result"
    }
   ],
   "source": [
    "re.split(' acres|\\n|\\xa0km2|\\)|\\(',park_df.loc[park_df['Name'] == 'Acadia', 'Area (2019)[11]'].item())"
   ]
  },
  {
   "cell_type": "code",
   "execution_count": 11,
   "metadata": {},
   "outputs": [
    {
     "name": "stdout",
     "output_type": "stream",
     "text": [
      "Acadia\n",
      "American Samoa\n",
      "Arches\n",
      "Badlands\n",
      "Big Bend dagger\n",
      "Biscayne\n",
      "Black Canyon of the Gunnison\n",
      "Bryce Canyon\n",
      "Canyonlands\n",
      "Capitol Reef\n",
      "Carlsbad Caverns\n",
      "Channel Islands\n",
      "Congaree\n",
      "Crater Lake\n",
      "Cuyahoga Valley\n",
      "Death Valley\n",
      "Denali dagger\n",
      "Dry Tortugas dagger\n",
      "Everglades double-dagger\n",
      "Gates of the Arctic\n",
      "Gateway Arch\n",
      "Glacier double-dagger\n",
      "Glacier Bay double-dagger\n",
      "Grand Canyon *\n",
      "Grand Teton dagger\n",
      "Great Basin\n",
      "Great Sand Dunes\n",
      "Great Smoky Mountains double-dagger\n",
      "Guadalupe Mountains\n",
      "Haleakalā dagger\n",
      "Hawaiʻi Volcanoes double-dagger\n",
      "Hot Springs\n",
      "Indiana Dunes\n",
      "Isle Royale dagger\n",
      "Joshua Tree dagger\n",
      "Katmai\n",
      "Kenai Fjords\n",
      "Kings Canyon dagger\n",
      "Kobuk Valley\n",
      "Lake Clark\n",
      "Lassen Volcanic\n",
      "Mammoth Cave double-dagger\n",
      "Mesa Verde *\n",
      "Mount Rainier\n",
      "North Cascades\n",
      "Olympic double-dagger\n",
      "Petrified Forest\n",
      "Pinnacles\n",
      "Redwood *\n",
      "Rocky Mountain dagger\n",
      "Saguaro\n",
      "Sequoia dagger\n",
      "Shenandoah\n",
      "Theodore Roosevelt\n",
      "Virgin Islands\n",
      "Voyageurs\n",
      "White Sands\n",
      "Wind Cave\n",
      "Wrangell\n",
      "Yellowstone double-dagger\n",
      "Yosemite *\n",
      "Zion\n"
     ]
    }
   ],
   "source": [
    "new_name = []\n",
    "for name in park_df['Name']:\n",
    "    print(name)\n",
    "    acre_split = ' acres|\\n|\\xa0km2\\)|\\('\n",
    "    old_name = park_df.loc[park_df['Name'] == name, 'Name'].item()\n",
    "    new_name.append(re.split(' dagger| double-dagger| \\*', old_name)[0])\n",
    "    park_df.loc[park_df['Name'] == name, 'lat'] = re.split('°W|°N |°S ',park_df.loc[park_df['Name'] == name, 'coordinates'].item())[0]\n",
    "    park_df.loc[park_df['Name'] == name, 'lon'] = '-' + re.split('°W|°N |°S ',park_df.loc[park_df['Name'] == name, 'coordinates'].item())[1]\n",
    "    park_df.loc[park_df['Name'] == name, 'area, acres'] = re.split(acre_split,park_df.loc[park_df['Name'] == name, 'Area (2019)[11]'].item())[0]\n",
    "    park_df.loc[park_df['Name'] == name, 'area, km^2'] = re.split(acre_split,park_df.loc[park_df['Name'] == name, 'Area (2019)[11]'].item())[2]"
   ]
  },
  {
   "cell_type": "code",
   "execution_count": 12,
   "metadata": {},
   "outputs": [],
   "source": [
    "park_df.loc[park_df['Name'] == 'American Samoa', 'lat'] = '-' + park_df.loc[park_df['Name'] == 'American Samoa', 'lat']"
   ]
  },
  {
   "cell_type": "code",
   "execution_count": 13,
   "metadata": {},
   "outputs": [
    {
     "data": {
      "text/plain": [
       "0           49,076.63 acres (198.6 km2)\n",
       "1             8,256.67 acres (33.4 km2)\n",
       "2           76,678.98 acres (310.3 km2)\n",
       "3          242,755.94 acres (982.4 km2)\n",
       "4        801,163.21 acres (3,242.2 km2)\n",
       "                    ...                \n",
       "57          33,970.84 acres (137.5 km2)\n",
       "58    8,323,146.48 acres (33,682.6 km2)\n",
       "59     2,219,790.71 acres (8,983.2 km2)\n",
       "60       761,747.50 acres (3,082.7 km2)\n",
       "61         147,242.66 acres (595.9 km2)\n",
       "Name: Area (2019)[11], Length: 62, dtype: object"
      ]
     },
     "execution_count": 13,
     "metadata": {},
     "output_type": "execute_result"
    }
   ],
   "source": [
    "park_df['Area (2019)[11]']"
   ]
  },
  {
   "cell_type": "code",
   "execution_count": 14,
   "metadata": {},
   "outputs": [
    {
     "data": {
      "text/plain": [
       "0      44.35\n",
       "1     -14.25\n",
       "2      38.68\n",
       "3      43.75\n",
       "4      29.25\n",
       "       ...  \n",
       "57     43.57\n",
       "58     61.00\n",
       "59     44.60\n",
       "60     37.83\n",
       "61     37.30\n",
       "Name: lat, Length: 62, dtype: object"
      ]
     },
     "execution_count": 14,
     "metadata": {},
     "output_type": "execute_result"
    }
   ],
   "source": [
    "park_df['lat']"
   ]
  },
  {
   "cell_type": "code",
   "execution_count": 15,
   "metadata": {},
   "outputs": [
    {
     "data": {
      "text/plain": [
       "0      -68.21\n",
       "1     -170.68\n",
       "2     -109.57\n",
       "3     -102.50\n",
       "4     -103.25\n",
       "       ...   \n",
       "57    -103.48\n",
       "58    -142.00\n",
       "59    -110.50\n",
       "60    -119.50\n",
       "61    -113.05\n",
       "Name: lon, Length: 62, dtype: object"
      ]
     },
     "execution_count": 15,
     "metadata": {},
     "output_type": "execute_result"
    }
   ],
   "source": [
    "park_df['lon']"
   ]
  },
  {
   "cell_type": "code",
   "execution_count": 16,
   "metadata": {},
   "outputs": [
    {
     "data": {
      "text/plain": [
       "['Acadia',\n",
       " 'American Samoa',\n",
       " 'Arches',\n",
       " 'Badlands',\n",
       " 'Big Bend',\n",
       " 'Biscayne',\n",
       " 'Black Canyon of the Gunnison',\n",
       " 'Bryce Canyon',\n",
       " 'Canyonlands',\n",
       " 'Capitol Reef',\n",
       " 'Carlsbad Caverns',\n",
       " 'Channel Islands',\n",
       " 'Congaree',\n",
       " 'Crater Lake',\n",
       " 'Cuyahoga Valley',\n",
       " 'Death Valley',\n",
       " 'Denali',\n",
       " 'Dry Tortugas',\n",
       " 'Everglades',\n",
       " 'Gates of the Arctic',\n",
       " 'Gateway Arch',\n",
       " 'Glacier',\n",
       " 'Glacier Bay',\n",
       " 'Grand Canyon',\n",
       " 'Grand Teton',\n",
       " 'Great Basin',\n",
       " 'Great Sand Dunes',\n",
       " 'Great Smoky Mountains',\n",
       " 'Guadalupe Mountains',\n",
       " 'Haleakalā',\n",
       " 'Hawaiʻi Volcanoes',\n",
       " 'Hot Springs',\n",
       " 'Indiana Dunes',\n",
       " 'Isle Royale',\n",
       " 'Joshua Tree',\n",
       " 'Katmai',\n",
       " 'Kenai Fjords',\n",
       " 'Kings Canyon',\n",
       " 'Kobuk Valley',\n",
       " 'Lake Clark',\n",
       " 'Lassen Volcanic',\n",
       " 'Mammoth Cave',\n",
       " 'Mesa Verde',\n",
       " 'Mount Rainier',\n",
       " 'North Cascades',\n",
       " 'Olympic',\n",
       " 'Petrified Forest',\n",
       " 'Pinnacles',\n",
       " 'Redwood',\n",
       " 'Rocky Mountain',\n",
       " 'Saguaro',\n",
       " 'Sequoia',\n",
       " 'Shenandoah',\n",
       " 'Theodore Roosevelt',\n",
       " 'Virgin Islands',\n",
       " 'Voyageurs',\n",
       " 'White Sands',\n",
       " 'Wind Cave',\n",
       " 'Wrangell',\n",
       " 'Yellowstone',\n",
       " 'Yosemite',\n",
       " 'Zion']"
      ]
     },
     "execution_count": 16,
     "metadata": {},
     "output_type": "execute_result"
    }
   ],
   "source": [
    "new_name"
   ]
  },
  {
   "cell_type": "code",
   "execution_count": 17,
   "metadata": {},
   "outputs": [],
   "source": [
    "park_df['Name'] = new_name"
   ]
  },
  {
   "cell_type": "code",
   "execution_count": 18,
   "metadata": {},
   "outputs": [
    {
     "data": {
      "text/plain": [
       "0             Acadia\n",
       "1     American Samoa\n",
       "2             Arches\n",
       "3           Badlands\n",
       "4           Big Bend\n",
       "           ...      \n",
       "57         Wind Cave\n",
       "58          Wrangell\n",
       "59       Yellowstone\n",
       "60          Yosemite\n",
       "61              Zion\n",
       "Name: Name, Length: 62, dtype: object"
      ]
     },
     "execution_count": 18,
     "metadata": {},
     "output_type": "execute_result"
    }
   ],
   "source": [
    "park_df['Name']"
   ]
  },
  {
   "cell_type": "code",
   "execution_count": 19,
   "metadata": {},
   "outputs": [
    {
     "data": {
      "text/plain": [
       "Index(['Name', 'Location', 'coordinates', 'Date established as park[5][10]',\n",
       "       'Area (2019)[11]', 'Recreation visitors (2018)[8]', 'Description',\n",
       "       'lat', 'lon', 'new_name', 'area, acres', 'area, km^2'],\n",
       "      dtype='object')"
      ]
     },
     "execution_count": 19,
     "metadata": {},
     "output_type": "execute_result"
    }
   ],
   "source": [
    "park_df.columns"
   ]
  },
  {
   "cell_type": "code",
   "execution_count": 20,
   "metadata": {},
   "outputs": [],
   "source": [
    "new_cols = ['Name', 'Location', 'coordinates','lat', 'lon', 'Date established as park[5][10]',\n",
    "       'Area (2019)[11]','area, acres', 'area, km^2', 'Recreation visitors (2018)[8]', 'Description']"
   ]
  },
  {
   "cell_type": "code",
   "execution_count": 21,
   "metadata": {},
   "outputs": [],
   "source": [
    "park_df = park_df[new_cols]"
   ]
  },
  {
   "cell_type": "code",
   "execution_count": 22,
   "metadata": {},
   "outputs": [],
   "source": [
    "park_clean_df = park_df.rename(columns = {'Date established as park[5][10]':'Date established as park', 'Area (2019)[11]':'Area, acres', 'Recreation visitors (2018)[8]' : 'Recreation visitors'})"
   ]
  },
  {
   "cell_type": "code",
   "execution_count": 23,
   "metadata": {},
   "outputs": [
    {
     "data": {
      "text/html": [
       "<div>\n",
       "<style scoped>\n",
       "    .dataframe tbody tr th:only-of-type {\n",
       "        vertical-align: middle;\n",
       "    }\n",
       "\n",
       "    .dataframe tbody tr th {\n",
       "        vertical-align: top;\n",
       "    }\n",
       "\n",
       "    .dataframe thead th {\n",
       "        text-align: right;\n",
       "    }\n",
       "</style>\n",
       "<table border=\"1\" class=\"dataframe\">\n",
       "  <thead>\n",
       "    <tr style=\"text-align: right;\">\n",
       "      <th></th>\n",
       "      <th>Name</th>\n",
       "      <th>Location</th>\n",
       "      <th>coordinates</th>\n",
       "      <th>lat</th>\n",
       "      <th>lon</th>\n",
       "      <th>Date established as park</th>\n",
       "      <th>Area, acres</th>\n",
       "      <th>area, acres</th>\n",
       "      <th>area, km^2</th>\n",
       "      <th>Recreation visitors</th>\n",
       "      <th>Description</th>\n",
       "    </tr>\n",
       "  </thead>\n",
       "  <tbody>\n",
       "    <tr>\n",
       "      <th>0</th>\n",
       "      <td>Acadia</td>\n",
       "      <td>Maine</td>\n",
       "      <td>44.35°N 68.21°W</td>\n",
       "      <td>44.35</td>\n",
       "      <td>-68.21</td>\n",
       "      <td>26-Feb-19</td>\n",
       "      <td>49,076.63 acres (198.6 km2)</td>\n",
       "      <td>49,076.63</td>\n",
       "      <td>198.6</td>\n",
       "      <td>3,537,575</td>\n",
       "      <td>Covering most of Mount Desert Island and other...</td>\n",
       "    </tr>\n",
       "    <tr>\n",
       "      <th>1</th>\n",
       "      <td>American Samoa</td>\n",
       "      <td>American Samoa</td>\n",
       "      <td>14.25°S 170.68°W</td>\n",
       "      <td>-14.25</td>\n",
       "      <td>-170.68</td>\n",
       "      <td>31-Oct-88</td>\n",
       "      <td>8,256.67 acres (33.4 km2)</td>\n",
       "      <td>8,256.67</td>\n",
       "      <td>33.4</td>\n",
       "      <td>28,626</td>\n",
       "      <td>The southernmost national park is on three Sam...</td>\n",
       "    </tr>\n",
       "    <tr>\n",
       "      <th>2</th>\n",
       "      <td>Arches</td>\n",
       "      <td>Utah</td>\n",
       "      <td>38.68°N 109.57°W</td>\n",
       "      <td>38.68</td>\n",
       "      <td>-109.57</td>\n",
       "      <td>12-Nov-71</td>\n",
       "      <td>76,678.98 acres (310.3 km2)</td>\n",
       "      <td>76,678.98</td>\n",
       "      <td>310.3</td>\n",
       "      <td>1,663,557</td>\n",
       "      <td>This site features more than 2,000 natural san...</td>\n",
       "    </tr>\n",
       "    <tr>\n",
       "      <th>3</th>\n",
       "      <td>Badlands</td>\n",
       "      <td>South Dakota</td>\n",
       "      <td>43.75°N 102.50°W</td>\n",
       "      <td>43.75</td>\n",
       "      <td>-102.50</td>\n",
       "      <td>10-Nov-78</td>\n",
       "      <td>242,755.94 acres (982.4 km2)</td>\n",
       "      <td>242,755.94</td>\n",
       "      <td>982.4</td>\n",
       "      <td>1,008,942</td>\n",
       "      <td>The Badlands are a collection of buttes, pinna...</td>\n",
       "    </tr>\n",
       "    <tr>\n",
       "      <th>4</th>\n",
       "      <td>Big Bend</td>\n",
       "      <td>Texas</td>\n",
       "      <td>29.25°N 103.25°W</td>\n",
       "      <td>29.25</td>\n",
       "      <td>-103.25</td>\n",
       "      <td>12-Jun-44</td>\n",
       "      <td>801,163.21 acres (3,242.2 km2)</td>\n",
       "      <td>801,163.21</td>\n",
       "      <td>3,242.2</td>\n",
       "      <td>440,091</td>\n",
       "      <td>Named for the prominent bend in the Rio Grande...</td>\n",
       "    </tr>\n",
       "    <tr>\n",
       "      <th>...</th>\n",
       "      <td>...</td>\n",
       "      <td>...</td>\n",
       "      <td>...</td>\n",
       "      <td>...</td>\n",
       "      <td>...</td>\n",
       "      <td>...</td>\n",
       "      <td>...</td>\n",
       "      <td>...</td>\n",
       "      <td>...</td>\n",
       "      <td>...</td>\n",
       "      <td>...</td>\n",
       "    </tr>\n",
       "    <tr>\n",
       "      <th>57</th>\n",
       "      <td>Wind Cave</td>\n",
       "      <td>South Dakota</td>\n",
       "      <td>43.57°N 103.48°W</td>\n",
       "      <td>43.57</td>\n",
       "      <td>-103.48</td>\n",
       "      <td>9-Jan-03</td>\n",
       "      <td>33,970.84 acres (137.5 km2)</td>\n",
       "      <td>33,970.84</td>\n",
       "      <td>137.5</td>\n",
       "      <td>656,397</td>\n",
       "      <td>Wind Cave is distinctive for its calcite fin f...</td>\n",
       "    </tr>\n",
       "    <tr>\n",
       "      <th>58</th>\n",
       "      <td>Wrangell</td>\n",
       "      <td>Alaska</td>\n",
       "      <td>61.00°N 142.00°W</td>\n",
       "      <td>61.00</td>\n",
       "      <td>-142.00</td>\n",
       "      <td>2-Dec-80</td>\n",
       "      <td>8,323,146.48 acres (33,682.6 km2)</td>\n",
       "      <td>8,323,146.48</td>\n",
       "      <td>33,682.6</td>\n",
       "      <td>79,450</td>\n",
       "      <td>An over 8 million acres (32,375 km2) plot of m...</td>\n",
       "    </tr>\n",
       "    <tr>\n",
       "      <th>59</th>\n",
       "      <td>Yellowstone</td>\n",
       "      <td>Wyoming, Montana, Idaho</td>\n",
       "      <td>44.60°N 110.50°W</td>\n",
       "      <td>44.60</td>\n",
       "      <td>-110.50</td>\n",
       "      <td>March 1, 1872</td>\n",
       "      <td>2,219,790.71 acres (8,983.2 km2)</td>\n",
       "      <td>2,219,790.71</td>\n",
       "      <td>8,983.2</td>\n",
       "      <td>4,115,000</td>\n",
       "      <td>Situated on the Yellowstone Caldera, the park ...</td>\n",
       "    </tr>\n",
       "    <tr>\n",
       "      <th>60</th>\n",
       "      <td>Yosemite</td>\n",
       "      <td>California</td>\n",
       "      <td>37.83°N 119.50°W</td>\n",
       "      <td>37.83</td>\n",
       "      <td>-119.50</td>\n",
       "      <td>October 1, 1890</td>\n",
       "      <td>761,747.50 acres (3,082.7 km2)</td>\n",
       "      <td>761,747.50</td>\n",
       "      <td>3,082.7</td>\n",
       "      <td>4,009,436</td>\n",
       "      <td>Yosemite features sheer granite cliffs, except...</td>\n",
       "    </tr>\n",
       "    <tr>\n",
       "      <th>61</th>\n",
       "      <td>Zion</td>\n",
       "      <td>Utah</td>\n",
       "      <td>37.30°N 113.05°W</td>\n",
       "      <td>37.30</td>\n",
       "      <td>-113.05</td>\n",
       "      <td>19-Nov-19</td>\n",
       "      <td>147,242.66 acres (595.9 km2)</td>\n",
       "      <td>147,242.66</td>\n",
       "      <td>595.9</td>\n",
       "      <td>4,320,033</td>\n",
       "      <td>Located at the junction of the Colorado Platea...</td>\n",
       "    </tr>\n",
       "  </tbody>\n",
       "</table>\n",
       "<p>62 rows × 11 columns</p>\n",
       "</div>"
      ],
      "text/plain": [
       "              Name                 Location       coordinates     lat  \\\n",
       "0           Acadia                    Maine   44.35°N 68.21°W   44.35   \n",
       "1   American Samoa           American Samoa  14.25°S 170.68°W  -14.25   \n",
       "2           Arches                     Utah  38.68°N 109.57°W   38.68   \n",
       "3         Badlands             South Dakota  43.75°N 102.50°W   43.75   \n",
       "4         Big Bend                    Texas  29.25°N 103.25°W   29.25   \n",
       "..             ...                      ...               ...     ...   \n",
       "57       Wind Cave             South Dakota  43.57°N 103.48°W   43.57   \n",
       "58        Wrangell                   Alaska  61.00°N 142.00°W   61.00   \n",
       "59     Yellowstone  Wyoming, Montana, Idaho  44.60°N 110.50°W   44.60   \n",
       "60        Yosemite               California  37.83°N 119.50°W   37.83   \n",
       "61            Zion                     Utah  37.30°N 113.05°W   37.30   \n",
       "\n",
       "        lon Date established as park                        Area, acres  \\\n",
       "0    -68.21                26-Feb-19        49,076.63 acres (198.6 km2)   \n",
       "1   -170.68                31-Oct-88          8,256.67 acres (33.4 km2)   \n",
       "2   -109.57                12-Nov-71        76,678.98 acres (310.3 km2)   \n",
       "3   -102.50                10-Nov-78       242,755.94 acres (982.4 km2)   \n",
       "4   -103.25                12-Jun-44     801,163.21 acres (3,242.2 km2)   \n",
       "..      ...                      ...                                ...   \n",
       "57  -103.48                 9-Jan-03        33,970.84 acres (137.5 km2)   \n",
       "58  -142.00                 2-Dec-80  8,323,146.48 acres (33,682.6 km2)   \n",
       "59  -110.50            March 1, 1872   2,219,790.71 acres (8,983.2 km2)   \n",
       "60  -119.50          October 1, 1890     761,747.50 acres (3,082.7 km2)   \n",
       "61  -113.05                19-Nov-19       147,242.66 acres (595.9 km2)   \n",
       "\n",
       "     area, acres area, km^2 Recreation visitors  \\\n",
       "0      49,076.63      198.6           3,537,575   \n",
       "1       8,256.67       33.4              28,626   \n",
       "2      76,678.98      310.3           1,663,557   \n",
       "3     242,755.94      982.4           1,008,942   \n",
       "4     801,163.21    3,242.2             440,091   \n",
       "..           ...        ...                 ...   \n",
       "57     33,970.84      137.5             656,397   \n",
       "58  8,323,146.48   33,682.6              79,450   \n",
       "59  2,219,790.71    8,983.2           4,115,000   \n",
       "60    761,747.50    3,082.7           4,009,436   \n",
       "61    147,242.66      595.9           4,320,033   \n",
       "\n",
       "                                          Description  \n",
       "0   Covering most of Mount Desert Island and other...  \n",
       "1   The southernmost national park is on three Sam...  \n",
       "2   This site features more than 2,000 natural san...  \n",
       "3   The Badlands are a collection of buttes, pinna...  \n",
       "4   Named for the prominent bend in the Rio Grande...  \n",
       "..                                                ...  \n",
       "57  Wind Cave is distinctive for its calcite fin f...  \n",
       "58  An over 8 million acres (32,375 km2) plot of m...  \n",
       "59  Situated on the Yellowstone Caldera, the park ...  \n",
       "60  Yosemite features sheer granite cliffs, except...  \n",
       "61  Located at the junction of the Colorado Platea...  \n",
       "\n",
       "[62 rows x 11 columns]"
      ]
     },
     "execution_count": 23,
     "metadata": {},
     "output_type": "execute_result"
    }
   ],
   "source": [
    "park_clean_df"
   ]
  },
  {
   "cell_type": "code",
   "execution_count": 24,
   "metadata": {},
   "outputs": [],
   "source": [
    "park_clean_df.to_csv(csv_clean, index = False)"
   ]
  },
  {
   "cell_type": "code",
   "execution_count": null,
   "metadata": {},
   "outputs": [],
   "source": []
  },
  {
   "cell_type": "code",
   "execution_count": null,
   "metadata": {},
   "outputs": [],
   "source": []
  }
 ],
 "metadata": {
  "kernelspec": {
   "display_name": "Python 3",
   "language": "python",
   "name": "python3"
  },
  "language_info": {
   "codemirror_mode": {
    "name": "ipython",
    "version": 3
   },
   "file_extension": ".py",
   "mimetype": "text/x-python",
   "name": "python",
   "nbconvert_exporter": "python",
   "pygments_lexer": "ipython3",
   "version": "3.7.7"
  }
 },
 "nbformat": 4,
 "nbformat_minor": 4
}
